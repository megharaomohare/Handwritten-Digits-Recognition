{
 "cells": [
  {
   "cell_type": "markdown",
   "id": "5728f9cc",
   "metadata": {
    "id": "5728f9cc"
   },
   "source": [
    "# Project Name - Handwritten Digits Image Processing Dataset"
   ]
  },
  {
   "cell_type": "code",
   "execution_count": 1,
   "id": "3f91d18d",
   "metadata": {
    "id": "3f91d18d"
   },
   "outputs": [],
   "source": [
    "import warnings\n",
    "warnings.filterwarnings(\"ignore\")"
   ]
  },
  {
   "cell_type": "code",
   "execution_count": 2,
   "id": "650523e6",
   "metadata": {
    "id": "650523e6"
   },
   "outputs": [],
   "source": [
    "import numpy as np\n",
    "import pandas as pd\n",
    "import matplotlib.pyplot as plt\n",
    "import seaborn as sns\n",
    "import tensorflow as tf\n",
    "from tensorflow.keras.datasets import mnist\n",
    "from tensorflow import keras"
   ]
  },
  {
   "cell_type": "code",
   "execution_count": 3,
   "id": "8f439836",
   "metadata": {
    "id": "8f439836"
   },
   "outputs": [],
   "source": [
    "mnist = tf.keras.datasets.mnist"
   ]
  },
  {
   "cell_type": "code",
   "execution_count": 4,
   "id": "a81d6702",
   "metadata": {
    "id": "a81d6702"
   },
   "outputs": [],
   "source": [
    "# Load the dataset\n",
    "(x_train, y_train), (x_test, y_test) = mnist.load_data()"
   ]
  },
  {
   "cell_type": "code",
   "execution_count": 5,
   "id": "d5e090a6",
   "metadata": {
    "id": "d5e090a6",
    "outputId": "53917ae0-463e-4217-86ac-faa2bdfedcef"
   },
   "outputs": [
    {
     "data": {
      "text/plain": [
       "array([[[0, 0, 0, ..., 0, 0, 0],\n",
       "        [0, 0, 0, ..., 0, 0, 0],\n",
       "        [0, 0, 0, ..., 0, 0, 0],\n",
       "        ...,\n",
       "        [0, 0, 0, ..., 0, 0, 0],\n",
       "        [0, 0, 0, ..., 0, 0, 0],\n",
       "        [0, 0, 0, ..., 0, 0, 0]],\n",
       "\n",
       "       [[0, 0, 0, ..., 0, 0, 0],\n",
       "        [0, 0, 0, ..., 0, 0, 0],\n",
       "        [0, 0, 0, ..., 0, 0, 0],\n",
       "        ...,\n",
       "        [0, 0, 0, ..., 0, 0, 0],\n",
       "        [0, 0, 0, ..., 0, 0, 0],\n",
       "        [0, 0, 0, ..., 0, 0, 0]],\n",
       "\n",
       "       [[0, 0, 0, ..., 0, 0, 0],\n",
       "        [0, 0, 0, ..., 0, 0, 0],\n",
       "        [0, 0, 0, ..., 0, 0, 0],\n",
       "        ...,\n",
       "        [0, 0, 0, ..., 0, 0, 0],\n",
       "        [0, 0, 0, ..., 0, 0, 0],\n",
       "        [0, 0, 0, ..., 0, 0, 0]],\n",
       "\n",
       "       ...,\n",
       "\n",
       "       [[0, 0, 0, ..., 0, 0, 0],\n",
       "        [0, 0, 0, ..., 0, 0, 0],\n",
       "        [0, 0, 0, ..., 0, 0, 0],\n",
       "        ...,\n",
       "        [0, 0, 0, ..., 0, 0, 0],\n",
       "        [0, 0, 0, ..., 0, 0, 0],\n",
       "        [0, 0, 0, ..., 0, 0, 0]],\n",
       "\n",
       "       [[0, 0, 0, ..., 0, 0, 0],\n",
       "        [0, 0, 0, ..., 0, 0, 0],\n",
       "        [0, 0, 0, ..., 0, 0, 0],\n",
       "        ...,\n",
       "        [0, 0, 0, ..., 0, 0, 0],\n",
       "        [0, 0, 0, ..., 0, 0, 0],\n",
       "        [0, 0, 0, ..., 0, 0, 0]],\n",
       "\n",
       "       [[0, 0, 0, ..., 0, 0, 0],\n",
       "        [0, 0, 0, ..., 0, 0, 0],\n",
       "        [0, 0, 0, ..., 0, 0, 0],\n",
       "        ...,\n",
       "        [0, 0, 0, ..., 0, 0, 0],\n",
       "        [0, 0, 0, ..., 0, 0, 0],\n",
       "        [0, 0, 0, ..., 0, 0, 0]]], dtype=uint8)"
      ]
     },
     "execution_count": 5,
     "metadata": {},
     "output_type": "execute_result"
    }
   ],
   "source": [
    "x_train"
   ]
  },
  {
   "cell_type": "code",
   "execution_count": 6,
   "id": "47575fa3",
   "metadata": {
    "id": "47575fa3",
    "outputId": "86146c57-a91b-415f-a395-ae202ffe0b9b"
   },
   "outputs": [
    {
     "data": {
      "text/plain": [
       "array([5, 0, 4, ..., 5, 6, 8], dtype=uint8)"
      ]
     },
     "execution_count": 6,
     "metadata": {},
     "output_type": "execute_result"
    }
   ],
   "source": [
    "y_train"
   ]
  },
  {
   "cell_type": "code",
   "execution_count": 7,
   "id": "bf8686c7",
   "metadata": {
    "id": "bf8686c7",
    "outputId": "5b47d19f-6af0-494d-e169-9d06266befdb"
   },
   "outputs": [
    {
     "data": {
      "text/plain": [
       "array([[[0, 0, 0, ..., 0, 0, 0],\n",
       "        [0, 0, 0, ..., 0, 0, 0],\n",
       "        [0, 0, 0, ..., 0, 0, 0],\n",
       "        ...,\n",
       "        [0, 0, 0, ..., 0, 0, 0],\n",
       "        [0, 0, 0, ..., 0, 0, 0],\n",
       "        [0, 0, 0, ..., 0, 0, 0]],\n",
       "\n",
       "       [[0, 0, 0, ..., 0, 0, 0],\n",
       "        [0, 0, 0, ..., 0, 0, 0],\n",
       "        [0, 0, 0, ..., 0, 0, 0],\n",
       "        ...,\n",
       "        [0, 0, 0, ..., 0, 0, 0],\n",
       "        [0, 0, 0, ..., 0, 0, 0],\n",
       "        [0, 0, 0, ..., 0, 0, 0]],\n",
       "\n",
       "       [[0, 0, 0, ..., 0, 0, 0],\n",
       "        [0, 0, 0, ..., 0, 0, 0],\n",
       "        [0, 0, 0, ..., 0, 0, 0],\n",
       "        ...,\n",
       "        [0, 0, 0, ..., 0, 0, 0],\n",
       "        [0, 0, 0, ..., 0, 0, 0],\n",
       "        [0, 0, 0, ..., 0, 0, 0]],\n",
       "\n",
       "       ...,\n",
       "\n",
       "       [[0, 0, 0, ..., 0, 0, 0],\n",
       "        [0, 0, 0, ..., 0, 0, 0],\n",
       "        [0, 0, 0, ..., 0, 0, 0],\n",
       "        ...,\n",
       "        [0, 0, 0, ..., 0, 0, 0],\n",
       "        [0, 0, 0, ..., 0, 0, 0],\n",
       "        [0, 0, 0, ..., 0, 0, 0]],\n",
       "\n",
       "       [[0, 0, 0, ..., 0, 0, 0],\n",
       "        [0, 0, 0, ..., 0, 0, 0],\n",
       "        [0, 0, 0, ..., 0, 0, 0],\n",
       "        ...,\n",
       "        [0, 0, 0, ..., 0, 0, 0],\n",
       "        [0, 0, 0, ..., 0, 0, 0],\n",
       "        [0, 0, 0, ..., 0, 0, 0]],\n",
       "\n",
       "       [[0, 0, 0, ..., 0, 0, 0],\n",
       "        [0, 0, 0, ..., 0, 0, 0],\n",
       "        [0, 0, 0, ..., 0, 0, 0],\n",
       "        ...,\n",
       "        [0, 0, 0, ..., 0, 0, 0],\n",
       "        [0, 0, 0, ..., 0, 0, 0],\n",
       "        [0, 0, 0, ..., 0, 0, 0]]], dtype=uint8)"
      ]
     },
     "execution_count": 7,
     "metadata": {},
     "output_type": "execute_result"
    }
   ],
   "source": [
    "x_test"
   ]
  },
  {
   "cell_type": "code",
   "execution_count": 8,
   "id": "62ec4d8a",
   "metadata": {
    "id": "62ec4d8a",
    "outputId": "c1ff556c-f031-4e99-8967-1a02400a87ff"
   },
   "outputs": [
    {
     "data": {
      "text/plain": [
       "array([7, 2, 1, ..., 4, 5, 6], dtype=uint8)"
      ]
     },
     "execution_count": 8,
     "metadata": {},
     "output_type": "execute_result"
    }
   ],
   "source": [
    "y_test"
   ]
  },
  {
   "cell_type": "code",
   "execution_count": 9,
   "id": "07f25406",
   "metadata": {
    "id": "07f25406",
    "outputId": "2f884176-90d8-45e2-af34-2af2fe3a6aa2"
   },
   "outputs": [
    {
     "name": "stdout",
     "output_type": "stream",
     "text": [
      "shape of training data : (60000, 28, 28)\n",
      "shape of training lable : (60000,)\n",
      "shape of testing data : (10000, 28, 28)\n",
      "shape of testing lable : (10000,)\n"
     ]
    }
   ],
   "source": [
    "# Cheking dataset dimension\n",
    "print('shape of training data :',x_train.shape)\n",
    "print('shape of training lable :',y_train.shape)\n",
    "print('shape of testing data :',x_test.shape)\n",
    "print('shape of testing lable :',y_test.shape)"
   ]
  },
  {
   "cell_type": "markdown",
   "id": "65ca3639",
   "metadata": {
    "id": "65ca3639"
   },
   "source": [
    "# Data preprocessing"
   ]
  },
  {
   "cell_type": "markdown",
   "id": "eaac1fa8",
   "metadata": {
    "id": "eaac1fa8"
   },
   "source": [
    "# EDA"
   ]
  },
  {
   "cell_type": "code",
   "execution_count": 10,
   "id": "67f4f712",
   "metadata": {
    "id": "67f4f712",
    "outputId": "5baf2e75-e577-4213-9a7e-246755418ffc"
   },
   "outputs": [
    {
     "data": {
      "image/png": "[encoded data removed]",
      "text/plain": [
       "<Figure size 640x480 with 1 Axes>"
      ]
     },
     "metadata": {},
     "output_type": "display_data"
    }
   ],
   "source": [
    "# To Check the first image of the dataset\n",
    "plt.imshow(x_train[0],cmap='gray')\n",
    "plt.show()"
   ]
  },
  {
   "cell_type": "code",
   "execution_count": 11,
   "id": "3a253533",
   "metadata": {
    "id": "3a253533",
    "outputId": "a753be55-cec1-4945-f02c-8224996dd003"
   },
   "outputs": [
    {
     "name": "stdout",
     "output_type": "stream",
     "text": [
      "[[  0   0   0   0   0   0   0   0   0   0   0   0   0   0   0   0   0   0\n",
      "    0   0   0   0   0   0   0   0   0   0]\n",
      " [  0   0   0   0   0   0   0   0   0   0   0   0   0   0   0   0   0   0\n",
      "    0   0   0   0   0   0   0   0   0   0]\n",
      " [  0   0   0   0   0   0   0   0   0   0   0   0   0   0   0   0   0   0\n",
      "    0   0   0   0   0   0   0   0   0   0]\n",
      " [  0   0   0   0   0   0   0   0   0   0   0   0   0   0   0   0   0   0\n",
      "    0   0   0   0   0   0   0   0   0   0]\n",
      " [  0   0   0   0   0   0   0   0   0   0   0   0   0   0   0   0   0   0\n",
      "    0   0   0   0   0   0   0   0   0   0]\n",
      " [  0   0   0   0   0   0   0   0   0   0   0   0   3  18  18  18 126 136\n",
      "  175  26 166 255 247 127   0   0   0   0]\n",
      " [  0   0   0   0   0   0   0   0  30  36  94 154 170 253 253 253 253 253\n",
      "  225 172 253 242 195  64   0   0   0   0]\n",
      " [  0   0   0   0   0   0   0  49 238 253 253 253 253 253 253 253 253 251\n",
      "   93  82  82  56  39   0   0   0   0   0]\n",
      " [  0   0   0   0   0   0   0  18 219 253 253 253 253 253 198 182 247 241\n",
      "    0   0   0   0   0   0   0   0   0   0]\n",
      " [  0   0   0   0   0   0   0   0  80 156 107 253 253 205  11   0  43 154\n",
      "    0   0   0   0   0   0   0   0   0   0]\n",
      " [  0   0   0   0   0   0   0   0   0  14   1 154 253  90   0   0   0   0\n",
      "    0   0   0   0   0   0   0   0   0   0]\n",
      " [  0   0   0   0   0   0   0   0   0   0   0 139 253 190   2   0   0   0\n",
      "    0   0   0   0   0   0   0   0   0   0]\n",
      " [  0   0   0   0   0   0   0   0   0   0   0  11 190 253  70   0   0   0\n",
      "    0   0   0   0   0   0   0   0   0   0]\n",
      " [  0   0   0   0   0   0   0   0   0   0   0   0  35 241 225 160 108   1\n",
      "    0   0   0   0   0   0   0   0   0   0]\n",
      " [  0   0   0   0   0   0   0   0   0   0   0   0   0  81 240 253 253 119\n",
      "   25   0   0   0   0   0   0   0   0   0]\n",
      " [  0   0   0   0   0   0   0   0   0   0   0   0   0   0  45 186 253 253\n",
      "  150  27   0   0   0   0   0   0   0   0]\n",
      " [  0   0   0   0   0   0   0   0   0   0   0   0   0   0   0  16  93 252\n",
      "  253 187   0   0   0   0   0   0   0   0]\n",
      " [  0   0   0   0   0   0   0   0   0   0   0   0   0   0   0   0   0 249\n",
      "  253 249  64   0   0   0   0   0   0   0]\n",
      " [  0   0   0   0   0   0   0   0   0   0   0   0   0   0  46 130 183 253\n",
      "  253 207   2   0   0   0   0   0   0   0]\n",
      " [  0   0   0   0   0   0   0   0   0   0   0   0  39 148 229 253 253 253\n",
      "  250 182   0   0   0   0   0   0   0   0]\n",
      " [  0   0   0   0   0   0   0   0   0   0  24 114 221 253 253 253 253 201\n",
      "   78   0   0   0   0   0   0   0   0   0]\n",
      " [  0   0   0   0   0   0   0   0  23  66 213 253 253 253 253 198  81   2\n",
      "    0   0   0   0   0   0   0   0   0   0]\n",
      " [  0   0   0   0   0   0  18 171 219 253 253 253 253 195  80   9   0   0\n",
      "    0   0   0   0   0   0   0   0   0   0]\n",
      " [  0   0   0   0  55 172 226 253 253 253 253 244 133  11   0   0   0   0\n",
      "    0   0   0   0   0   0   0   0   0   0]\n",
      " [  0   0   0   0 136 253 253 253 212 135 132  16   0   0   0   0   0   0\n",
      "    0   0   0   0   0   0   0   0   0   0]\n",
      " [  0   0   0   0   0   0   0   0   0   0   0   0   0   0   0   0   0   0\n",
      "    0   0   0   0   0   0   0   0   0   0]\n",
      " [  0   0   0   0   0   0   0   0   0   0   0   0   0   0   0   0   0   0\n",
      "    0   0   0   0   0   0   0   0   0   0]\n",
      " [  0   0   0   0   0   0   0   0   0   0   0   0   0   0   0   0   0   0\n",
      "    0   0   0   0   0   0   0   0   0   0]]\n"
     ]
    }
   ],
   "source": [
    "# The value of each pixel\n",
    "print(x_train[0])"
   ]
  },
  {
   "cell_type": "code",
   "execution_count": 12,
   "id": "e8c31243",
   "metadata": {
    "id": "e8c31243",
    "outputId": "e787a1bf-4693-4c94-9e8b-d6c77d4cb59e"
   },
   "outputs": [
    {
     "data": {
      "image/png": "[encoded data removed]",
      "text/plain": [
       "<Figure size 640x480 with 6 Axes>"
      ]
     },
     "metadata": {},
     "output_type": "display_data"
    }
   ],
   "source": [
    "# checking the dataset\n",
    "\n",
    "for i in range(6):\n",
    "\n",
    "    plt.subplot (int('23' + str(i+1)))\n",
    "\n",
    "    plt.imshow(x_train[i], cmap=plt.get_cmap('gray'))"
   ]
  },
  {
   "cell_type": "code",
   "execution_count": 13,
   "id": "4007f9b8",
   "metadata": {
    "id": "4007f9b8",
    "outputId": "0dca5a5f-908a-4755-a03b-307ddcc95a97"
   },
   "outputs": [
    {
     "data": {
      "image/png": "[encoded data removed]",
      "text/plain": [
       "<Figure size 1000x400 with 10 Axes>"
      ]
     },
     "metadata": {},
     "output_type": "display_data"
    }
   ],
   "source": [
    "# Visualize sample digits\n",
    "fig, axes = plt.subplots(2, 5, figsize=(10, 4))\n",
    "axes = axes.ravel()\n",
    "\n",
    "for i in range(10):\n",
    "    axes[i].imshow(x_train[i], cmap='gray')\n",
    "    axes[i].set_title('Label: {}'.format(y_train[i]))\n",
    "    axes[i].axis('off')\n",
    "\n",
    "plt.tight_layout()\n",
    "plt.show()"
   ]
  },
  {
   "cell_type": "code",
   "execution_count": 14,
   "id": "5a3a1171",
   "metadata": {
    "id": "5a3a1171",
    "outputId": "fcfc9a69-7de1-40ad-f63b-e6143fc404f0"
   },
   "outputs": [
    {
     "data": {
      "image/png": "[encoded data removed]",
      "text/plain": [
       "<Figure size 640x480 with 1 Axes>"
      ]
     },
     "metadata": {},
     "output_type": "display_data"
    }
   ],
   "source": [
    "# Distribution of digits\n",
    "digit_counts = np.bincount(y_train)\n",
    "digits = np.arange(10)\n",
    "plt.bar(digits, digit_counts)\n",
    "plt.xlabel('Digit')\n",
    "plt.ylabel('Count')\n",
    "plt.title('Distribution of Digits')\n",
    "plt.xticks(digits)\n",
    "plt.show()\n"
   ]
  },
  {
   "cell_type": "code",
   "execution_count": 15,
   "id": "44b186f4",
   "metadata": {
    "id": "44b186f4",
    "outputId": "6234da4b-fc1f-4667-9fef-9304edc57eb5"
   },
   "outputs": [
    {
     "data": {
      "image/png": "[encoded data removed]",
      "text/plain": [
       "<Figure size 640x480 with 1 Axes>"
      ]
     },
     "metadata": {},
     "output_type": "display_data"
    }
   ],
   "source": [
    "# pixel intensity analysis\n",
    "pixel_means = np.mean(x_train, axis=(0, 1))\n",
    "pixel_stds = np.std(x_train, axis=(0, 1))\n",
    "\n",
    "plt.plot(range(28), pixel_means, label='Mean')\n",
    "plt.plot(range(28), pixel_stds, label='Standard Deviation')\n",
    "plt.xlabel('Pixel')\n",
    "plt.ylabel('Intensity')\n",
    "plt.title('Pixel Intensity Analysis')\n",
    "plt.legend()\n",
    "plt.show()"
   ]
  },
  {
   "cell_type": "markdown",
   "id": "bfd6d7af",
   "metadata": {
    "id": "bfd6d7af"
   },
   "source": [
    "# MODEL EVALUATION"
   ]
  },
  {
   "cell_type": "code",
   "execution_count": 16,
   "id": "eb8d1c0a",
   "metadata": {
    "id": "eb8d1c0a"
   },
   "outputs": [],
   "source": [
    "# To find which algorithm is best fit for test the dataset model"
   ]
  },
  {
   "cell_type": "code",
   "execution_count": 17,
   "id": "68d755ba",
   "metadata": {
    "id": "68d755ba"
   },
   "outputs": [],
   "source": [
    "from sklearn.svm import SVC\n",
    "from sklearn.ensemble import GradientBoostingClassifier\n",
    "from sklearn.ensemble import RandomForestClassifier\n",
    "from sklearn.metrics import accuracy_score, precision_score, recall_score, f1_score, confusion_matrix,classification_report\n"
   ]
  },
  {
   "cell_type": "code",
   "execution_count": 18,
   "id": "559b75bd",
   "metadata": {
    "id": "559b75bd"
   },
   "outputs": [],
   "source": [
    "import numpy as np\n",
    "\n",
    "# Reshape the input data\n",
    "num_samples_train, height, width = x_train.shape\n",
    "num_samples_test = x_test.shape[0]\n",
    "\n",
    "x_train_2d = np.reshape(x_train, (num_samples_train, height * width))\n",
    "x_test_2d = np.reshape(x_test, (num_samples_test, height * width))"
   ]
  },
  {
   "cell_type": "code",
   "execution_count": 19,
   "id": "63e41e2a",
   "metadata": {},
   "outputs": [
    {
     "data": {
      "text/plain": [
       "(60000, 784)"
      ]
     },
     "execution_count": 19,
     "metadata": {},
     "output_type": "execute_result"
    }
   ],
   "source": [
    "x_train_2d.shape"
   ]
  },
  {
   "cell_type": "code",
   "execution_count": 20,
   "id": "19ea0e2a",
   "metadata": {},
   "outputs": [
    {
     "data": {
      "text/plain": [
       "(10000, 784)"
      ]
     },
     "execution_count": 20,
     "metadata": {},
     "output_type": "execute_result"
    }
   ],
   "source": [
    "x_test_2d.shape"
   ]
  },
  {
   "cell_type": "markdown",
   "id": "002265b9",
   "metadata": {
    "id": "002265b9"
   },
   "source": [
    "##  Support Vector Machine (SVM)"
   ]
  },
  {
   "cell_type": "markdown",
   "id": "e2d22d3c",
   "metadata": {
    "id": "e2d22d3c"
   },
   "source": [
    "## Train the SVM model"
   ]
  },
  {
   "cell_type": "code",
   "execution_count": 21,
   "id": "8906087e",
   "metadata": {
    "id": "8906087e",
    "outputId": "3269ad48-a10a-4d87-85ba-0b7e1621c557"
   },
   "outputs": [
    {
     "data": {
      "text/plain": [
       "SVC()"
      ]
     },
     "execution_count": 21,
     "metadata": {},
     "output_type": "execute_result"
    }
   ],
   "source": [
    "svm_classifier = SVC()\n",
    "svm_classifier.fit(x_train_2d, y_train)"
   ]
  },
  {
   "cell_type": "code",
   "execution_count": 22,
   "id": "1bbd1ec4",
   "metadata": {
    "id": "1bbd1ec4"
   },
   "outputs": [],
   "source": [
    "# Predicition on test data\n",
    "svm_predictions = svm_classifier.predict(x_test_2d)\n"
   ]
  },
  {
   "cell_type": "code",
   "execution_count": 23,
   "id": "3238fdca",
   "metadata": {
    "id": "3238fdca",
    "outputId": "1bebfb7f-74f9-47ed-b5f8-4443728d678d"
   },
   "outputs": [
    {
     "name": "stdout",
     "output_type": "stream",
     "text": [
      "SVM Accuracy: 0.9792\n"
     ]
    }
   ],
   "source": [
    "# Calculate evaluation metrics\n",
    "# Accuracy Score\n",
    "svm_accuracy = accuracy_score(y_test, svm_predictions)\n",
    "\n",
    "# print evaluation metrix\n",
    "print(\"SVM Accuracy:\", svm_accuracy)"
   ]
  },
  {
   "cell_type": "code",
   "execution_count": 24,
   "id": "e640e7f8",
   "metadata": {
    "id": "e640e7f8",
    "outputId": "1c7be368-b652-4e55-d327-9c22d8ab8c09"
   },
   "outputs": [
    {
     "name": "stdout",
     "output_type": "stream",
     "text": [
      "SVM Precision: 0.9791973966593345\n"
     ]
    }
   ],
   "source": [
    "# Precision Score\n",
    "svm_precision = precision_score(y_test, svm_predictions, average='macro')\n",
    "\n",
    "print(\"SVM Precision:\", svm_precision)"
   ]
  },
  {
   "cell_type": "code",
   "execution_count": 25,
   "id": "c93b0b32",
   "metadata": {
    "id": "c93b0b32",
    "outputId": "8cfb6e2b-fa1a-433d-979d-2ac151e3d775"
   },
   "outputs": [
    {
     "name": "stdout",
     "output_type": "stream",
     "text": [
      "SVM Recall: 0.9790919842945065\n"
     ]
    }
   ],
   "source": [
    "# Recall Score\n",
    "svm_recall = recall_score(y_test, svm_predictions, average='macro')\n",
    "\n",
    "print(\"SVM Recall:\", svm_recall)"
   ]
  },
  {
   "cell_type": "code",
   "execution_count": 26,
   "id": "406f6d46",
   "metadata": {
    "id": "406f6d46",
    "outputId": "86a4140f-b500-4bcb-c2ec-4f31e153bcdd"
   },
   "outputs": [
    {
     "name": "stdout",
     "output_type": "stream",
     "text": [
      "SVM F1 Score: 0.9791298259748042\n"
     ]
    }
   ],
   "source": [
    "# F1 Score\n",
    "svm_f1 = f1_score(y_test, svm_predictions, average='macro')\n",
    "\n",
    "print(\"SVM F1 Score:\", svm_f1)"
   ]
  },
  {
   "cell_type": "code",
   "execution_count": 27,
   "id": "92ca0c4a",
   "metadata": {
    "id": "92ca0c4a",
    "outputId": "026c0fe7-3536-4689-8554-99686cc3292e"
   },
   "outputs": [
    {
     "name": "stdout",
     "output_type": "stream",
     "text": [
      "SVM Confusion Matrix:\n",
      "[[ 973    0    1    0    0    2    1    1    2    0]\n",
      " [   0 1126    3    1    0    1    1    1    2    0]\n",
      " [   6    1 1006    2    1    0    2    7    6    1]\n",
      " [   0    0    2  995    0    2    0    5    5    1]\n",
      " [   0    0    5    0  961    0    3    0    2   11]\n",
      " [   2    0    0    9    0  871    4    1    4    1]\n",
      " [   6    2    0    0    2    3  944    0    1    0]\n",
      " [   0    6   11    1    1    0    0  996    2   11]\n",
      " [   3    0    2    6    3    2    2    3  950    3]\n",
      " [   3    4    1    7   10    2    1    7    4  970]]\n"
     ]
    }
   ],
   "source": [
    "# confusion matrix\n",
    "svm_confusion = confusion_matrix(y_test, svm_predictions)\n",
    "\n",
    "print(\"SVM Confusion Matrix:\")\n",
    "print(svm_confusion)"
   ]
  },
  {
   "cell_type": "code",
   "execution_count": 28,
   "id": "602e22d7",
   "metadata": {
    "id": "602e22d7",
    "outputId": "277b7957-31ea-449b-eae6-7743dd062b0c"
   },
   "outputs": [
    {
     "name": "stdout",
     "output_type": "stream",
     "text": [
      "SVM Classification Report:\n",
      "              precision    recall  f1-score   support\n",
      "\n",
      "           0       0.98      0.99      0.99       980\n",
      "           1       0.99      0.99      0.99      1135\n",
      "           2       0.98      0.97      0.98      1032\n",
      "           3       0.97      0.99      0.98      1010\n",
      "           4       0.98      0.98      0.98       982\n",
      "           5       0.99      0.98      0.98       892\n",
      "           6       0.99      0.99      0.99       958\n",
      "           7       0.98      0.97      0.97      1028\n",
      "           8       0.97      0.98      0.97       974\n",
      "           9       0.97      0.96      0.97      1009\n",
      "\n",
      "    accuracy                           0.98     10000\n",
      "   macro avg       0.98      0.98      0.98     10000\n",
      "weighted avg       0.98      0.98      0.98     10000\n",
      "\n"
     ]
    }
   ],
   "source": [
    "# Classification report\n",
    "svm_report = classification_report(y_test, svm_predictions)\n",
    "\n",
    "print(\"SVM Classification Report:\")\n",
    "print(svm_report)"
   ]
  },
  {
   "cell_type": "markdown",
   "id": "cc98e26c",
   "metadata": {
    "id": "cc98e26c"
   },
   "source": [
    "# Gradient Boosting"
   ]
  },
  {
   "cell_type": "markdown",
   "id": "90bf7b35",
   "metadata": {
    "id": "90bf7b35"
   },
   "source": [
    "## Train the Gradient Boosting Model"
   ]
  },
  {
   "cell_type": "code",
   "execution_count": null,
   "id": "0491961d",
   "metadata": {
    "id": "0491961d",
    "outputId": "5fcc2a0d-01f9-4747-ae76-8dcadc89af79"
   },
   "outputs": [],
   "source": [
    "# Create a Gradient Boosting classifier\n",
    "gb_classifier = GradientBoostingClassifier()\n",
    "# Train the data\n",
    "gb_classifier.fit(x_train_2d, y_train)"
   ]
  },
  {
   "cell_type": "code",
   "execution_count": null,
   "id": "582faa2d",
   "metadata": {
    "id": "582faa2d"
   },
   "outputs": [],
   "source": [
    "# predictions on the test data\n",
    "gb_predictions = gb_classifier.predict(x_test_2d)"
   ]
  },
  {
   "cell_type": "code",
   "execution_count": null,
   "id": "32aa841b",
   "metadata": {
    "id": "32aa841b",
    "outputId": "91f691ae-62f6-4fa3-9771-9c18ab0c217d"
   },
   "outputs": [],
   "source": [
    "# Accuracy Score\n",
    "gb_accuracy = accuracy_score(y_test, gb_predictions)\n",
    "\n",
    "print(\"Gradient Boosting Accuracy:\", gb_accuracy)\n"
   ]
  },
  {
   "cell_type": "code",
   "execution_count": null,
   "id": "0adc1fb9",
   "metadata": {
    "id": "0adc1fb9",
    "outputId": "c6e0623f-7cd3-4247-e2f5-6ae39eb674c8"
   },
   "outputs": [],
   "source": [
    "# Precision Score\n",
    "gb_precision = precision_score(y_test, gb_predictions, average='macro')\n",
    "\n",
    "print(\"Gradient Boosting Precision:\", gb_precision)\n"
   ]
  },
  {
   "cell_type": "code",
   "execution_count": null,
   "id": "79d3eb36",
   "metadata": {
    "id": "79d3eb36",
    "outputId": "0d7f1422-2674-4471-9e80-e7a2bac06a3a"
   },
   "outputs": [],
   "source": [
    "# recall Score\n",
    "gb_recall = recall_score(y_test, gb_predictions, average='macro')\n",
    "\n",
    "print(\"Gradient Boosting Recall:\", gb_recall)\n"
   ]
  },
  {
   "cell_type": "code",
   "execution_count": null,
   "id": "2e58f12a",
   "metadata": {
    "id": "2e58f12a",
    "outputId": "59beca15-b679-4526-ba53-297e22d95eee"
   },
   "outputs": [],
   "source": [
    "# F1 Score\n",
    "gb_f1 = f1_score(y_test, gb_predictions, average='macro')\n",
    "\n",
    "print(\"Gradient Boosting F1 Score:\", gb_f1)\n"
   ]
  },
  {
   "cell_type": "code",
   "execution_count": null,
   "id": "29c86b91",
   "metadata": {
    "id": "29c86b91",
    "outputId": "18af8eec-67c3-45bc-905c-2253f8965836"
   },
   "outputs": [],
   "source": [
    "# Confusion matrix\n",
    "gb_confusion = confusion_matrix(y_test, gb_predictions)\n",
    "\n",
    "print(\"Gradient Boosting Confusion Matrix:\")\n",
    "print(gb_confusion)"
   ]
  },
  {
   "cell_type": "code",
   "execution_count": null,
   "id": "404bd33d",
   "metadata": {
    "id": "404bd33d",
    "outputId": "4c29dc2b-1503-4830-ff97-f4f4e78e0037"
   },
   "outputs": [],
   "source": [
    "# classification report\n",
    "gb_report = classification_report(y_test, gb_predictions)\n",
    "\n",
    "# Print the classification report\n",
    "print(\"Gradient Boosting Classification Report:\")\n",
    "print(gb_report)"
   ]
  },
  {
   "cell_type": "markdown",
   "id": "93c48017",
   "metadata": {
    "id": "93c48017"
   },
   "source": [
    "# Random Forest"
   ]
  },
  {
   "cell_type": "code",
   "execution_count": null,
   "id": "41c93e15",
   "metadata": {
    "id": "41c93e15",
    "outputId": "2aa4488b-bf2e-428c-e298-dd0e9289b790"
   },
   "outputs": [],
   "source": [
    "# Initialize and train the Random Forest model\n",
    "rf_classifier = RandomForestClassifier()\n",
    "rf_classifier.fit(x_train_2d, y_train)"
   ]
  },
  {
   "cell_type": "code",
   "execution_count": null,
   "id": "6a79e99f",
   "metadata": {
    "id": "6a79e99f"
   },
   "outputs": [],
   "source": [
    "# Make predictions on the test data\n",
    "rf_predictions = rf_classifier.predict(x_test_2d)"
   ]
  },
  {
   "cell_type": "code",
   "execution_count": null,
   "id": "ce53ee4c",
   "metadata": {
    "id": "ce53ee4c",
    "outputId": "8a931f52-3868-4d26-982f-89a99471cd17"
   },
   "outputs": [],
   "source": [
    "# Accuracy Score\n",
    "rf_accuracy = accuracy_score(y_test, rf_predictions)\n",
    "\n",
    "print(\"Random Forest Accuracy:\", rf_accuracy)"
   ]
  },
  {
   "cell_type": "code",
   "execution_count": null,
   "id": "506f3421",
   "metadata": {
    "id": "506f3421",
    "outputId": "4a73a1aa-850c-425b-ee0f-b39fd99cb93f"
   },
   "outputs": [],
   "source": [
    "# Precision Score\n",
    "rf_precision = precision_score(y_test, rf_predictions, average='macro')\n",
    "\n",
    "print(\"Random Forest Precision:\", rf_precision)"
   ]
  },
  {
   "cell_type": "code",
   "execution_count": null,
   "id": "23b838f6",
   "metadata": {
    "id": "23b838f6",
    "outputId": "848ba3a3-2746-4f88-f8b6-3e95d8f8aa0e"
   },
   "outputs": [],
   "source": [
    "# Recall Score\n",
    "rf_recall = recall_score(y_test, rf_predictions, average='macro')\n",
    "\n",
    "print(\"Random Forest Recall:\", rf_recall)"
   ]
  },
  {
   "cell_type": "code",
   "execution_count": null,
   "id": "4c1ee60b",
   "metadata": {
    "id": "4c1ee60b",
    "outputId": "38cad5a0-f407-4d93-cbe2-7523dd11c153"
   },
   "outputs": [],
   "source": [
    "# F1 Score\n",
    "rf_f1 = f1_score(y_test, rf_predictions, average='macro')\n",
    "\n",
    "print(\"Random Forest F1 Score:\", rf_f1)\n"
   ]
  },
  {
   "cell_type": "code",
   "execution_count": null,
   "id": "69d96d0d",
   "metadata": {
    "id": "69d96d0d",
    "outputId": "7b0e1f24-7256-4e50-d23a-271425a982b7"
   },
   "outputs": [],
   "source": [
    "# Confusion Matrix\n",
    "rf_confusion = confusion_matrix(y_test, rf_predictions)\n",
    "\n",
    "print(\"Random Forest Confusion Matrix:\")\n",
    "print(rf_confusion)"
   ]
  },
  {
   "cell_type": "code",
   "execution_count": null,
   "id": "40a0b9f8",
   "metadata": {
    "id": "40a0b9f8",
    "outputId": "d74bf511-7379-4e63-f3d8-184b2697869f"
   },
   "outputs": [],
   "source": [
    "# Generate classification report\n",
    "rf_report = classification_report(y_test, rf_predictions)\n",
    "\n",
    "# Print the classification report\n",
    "print(\"Random Forest Classification Report:\")\n",
    "print(rf_report)\n"
   ]
  },
  {
   "cell_type": "markdown",
   "id": "911a0390",
   "metadata": {
    "id": "911a0390"
   },
   "source": [
    "# k-nearest neighbors"
   ]
  },
  {
   "cell_type": "code",
   "execution_count": null,
   "id": "38f70506",
   "metadata": {
    "id": "38f70506"
   },
   "outputs": [],
   "source": [
    "from sklearn.neighbors import KNeighborsClassifier\n"
   ]
  },
  {
   "cell_type": "code",
   "execution_count": null,
   "id": "f0889e90",
   "metadata": {
    "id": "f0889e90"
   },
   "outputs": [],
   "source": [
    "# Create a KNN classifier\n",
    "knn = KNeighborsClassifier(n_neighbors=5)"
   ]
  },
  {
   "cell_type": "markdown",
   "id": "fddc3620",
   "metadata": {
    "id": "fddc3620"
   },
   "source": [
    "## Train the KNN model"
   ]
  },
  {
   "cell_type": "code",
   "execution_count": null,
   "id": "6ee282a1",
   "metadata": {
    "id": "6ee282a1",
    "outputId": "6304cfb5-f6d7-4309-e301-8662d7f2fb45"
   },
   "outputs": [],
   "source": [
    "knn.fit(x_train_2d, y_train)"
   ]
  },
  {
   "cell_type": "code",
   "execution_count": null,
   "id": "99c8b931",
   "metadata": {
    "id": "99c8b931"
   },
   "outputs": [],
   "source": [
    "# Predict labels for the test set\n",
    "y_pred = knn.predict(x_test_2d)"
   ]
  },
  {
   "cell_type": "code",
   "execution_count": null,
   "id": "3c572c5b",
   "metadata": {
    "id": "3c572c5b",
    "outputId": "d09b36c7-9b94-4baf-bc9f-da7fbc8b168f"
   },
   "outputs": [],
   "source": [
    "# Accuracy Score\n",
    "knn_accuracy = accuracy_score(y_test, y_pred)\n",
    "\n",
    "print('KNN Accuracy:', knn_accuracy)"
   ]
  },
  {
   "cell_type": "code",
   "execution_count": null,
   "id": "5ebfc24b",
   "metadata": {
    "id": "5ebfc24b",
    "outputId": "654c3471-0771-47bd-dde3-bae70c861de9"
   },
   "outputs": [],
   "source": [
    "# Precision Score\n",
    "knn_precision = precision_score(y_test, y_pred, average='macro')\n",
    "\n",
    "print('KNN Precision:', knn_precision)"
   ]
  },
  {
   "cell_type": "code",
   "execution_count": null,
   "id": "9e7e91a8",
   "metadata": {
    "id": "9e7e91a8",
    "outputId": "4bc1435d-50a5-4193-cc11-fbbb3754f35c"
   },
   "outputs": [],
   "source": [
    "# Recall Score\n",
    "knn_recall = recall_score(y_test, y_pred, average='macro')\n",
    "\n",
    "print('KNN Recall:', knn_recall)"
   ]
  },
  {
   "cell_type": "code",
   "execution_count": null,
   "id": "d6fe9e72",
   "metadata": {
    "id": "d6fe9e72",
    "outputId": "295679ab-4399-4a1a-f9d2-c496cd0d500e"
   },
   "outputs": [],
   "source": [
    "# F1 score\n",
    "knn_f1 = f1_score(y_test, y_pred, average='macro')\n",
    "\n",
    "print('KNN F1 Score:', knn_f1)"
   ]
  },
  {
   "cell_type": "code",
   "execution_count": null,
   "id": "a3f098e4",
   "metadata": {
    "id": "a3f098e4",
    "outputId": "17bc6dfa-6647-4450-f299-a8af56d9b2a9"
   },
   "outputs": [],
   "source": [
    "# Confusion matrix\n",
    "knn_cm = confusion_matrix(y_test, y_pred)\n",
    "\n",
    "print('KNN Confusion Matrix:')\n",
    "print(knn_cm)"
   ]
  },
  {
   "cell_type": "code",
   "execution_count": null,
   "id": "5141891c",
   "metadata": {
    "id": "5141891c",
    "outputId": "7067f2b7-f777-4576-c77b-2679070a2056"
   },
   "outputs": [],
   "source": [
    "# Classification report\n",
    "knn_report = classification_report(y_test, y_pred)\n",
    "\n",
    "print('Classification Report:')\n",
    "print(knn_report)"
   ]
  },
  {
   "cell_type": "markdown",
   "id": "311446d1",
   "metadata": {
    "id": "311446d1"
   },
   "source": [
    "# CNN"
   ]
  },
  {
   "cell_type": "code",
   "execution_count": null,
   "id": "0cf1506a",
   "metadata": {
    "id": "0cf1506a"
   },
   "outputs": [],
   "source": [
    "# Define the number of channels\n",
    "channels = 1\n",
    "\n",
    "# Define the number of classes\n",
    "num_classes = 10\n",
    "\n",
    "# Reshape the input data\n",
    "num_samples_train, height, width = x_train.shape[0], x_train.shape[1], x_train.shape[2]\n",
    "num_samples_test = x_test.shape[0]\n",
    "\n",
    "\n",
    "x_train_reshaped = x_train.reshape(num_samples_train, height, width, channels)\n",
    "x_test_reshaped = x_test.reshape(num_samples_test, height, width, channels)\n"
   ]
  },
  {
   "cell_type": "code",
   "execution_count": null,
   "id": "57b51594",
   "metadata": {
    "id": "57b51594"
   },
   "outputs": [],
   "source": [
    "# Define and compile the CNN model\n",
    "cnn_model = keras.Sequential([\n",
    "    keras.layers.Conv2D(32, kernel_size=(3, 3), activation='relu', input_shape=(height, width, channels)),\n",
    "    keras.layers.MaxPooling2D(pool_size=(2, 2)),\n",
    "    keras.layers.Flatten(),\n",
    "    keras.layers.Dense(128, activation='relu'),\n",
    "    keras.layers.Dense(num_classes, activation='softmax')\n",
    "])\n",
    "cnn_model.compile(optimizer='adam', loss='sparse_categorical_crossentropy', metrics=['accuracy'])"
   ]
  },
  {
   "cell_type": "markdown",
   "id": "c34d3d0e",
   "metadata": {
    "id": "c34d3d0e"
   },
   "source": [
    "# Train the model"
   ]
  },
  {
   "cell_type": "code",
   "execution_count": null,
   "id": "656e741a",
   "metadata": {
    "id": "656e741a",
    "outputId": "c763f580-0661-48e3-b51c-dc79ab132717"
   },
   "outputs": [],
   "source": [
    "\n",
    "# Train the CNN model\n",
    "cnn_model.fit(x_train_reshaped, y_train, epochs=32, batch_size=32)\n"
   ]
  },
  {
   "cell_type": "code",
   "execution_count": null,
   "id": "313b8ee1",
   "metadata": {
    "id": "313b8ee1",
    "scrolled": true
   },
   "outputs": [],
   "source": [
    "cnn_model.save('cnn_digit.h5')"
   ]
  },
  {
   "cell_type": "code",
   "execution_count": null,
   "id": "e64d0e30",
   "metadata": {
    "id": "e64d0e30",
    "outputId": "65bfdc4e-c60b-4078-b1e2-ea0f7ce3026b",
    "scrolled": true
   },
   "outputs": [],
   "source": [
    "# Assuming you have trained your CNN model and obtained predictions on the test set\n",
    "y_pred_probabilities = cnn_model.predict(x_test_reshaped)\n",
    "y_pred = np.argmax(y_pred_probabilities, axis=1)\n",
    "\n",
    "y_test_original = y_test"
   ]
  },
  {
   "cell_type": "code",
   "execution_count": null,
   "id": "40c11178",
   "metadata": {
    "id": "40c11178",
    "outputId": "ddff05cc-ac5b-4b3c-d95d-91862c57aba7"
   },
   "outputs": [],
   "source": [
    "# Accuracy Score\n",
    "cnn_accuracy = accuracy_score(y_test_original, y_pred)\n",
    "\n",
    "print('CNN Accuracy:', cnn_accuracy)"
   ]
  },
  {
   "cell_type": "code",
   "execution_count": null,
   "id": "09c4dfc9",
   "metadata": {
    "id": "09c4dfc9",
    "outputId": "224c94a4-4f59-409a-f8d2-2ff9cc82c2a3"
   },
   "outputs": [],
   "source": [
    "# Precision Score\n",
    "cnn_precision = precision_score(y_test_original, y_pred, average='macro')\n",
    "\n",
    "print('CNN Precision:', cnn_precision)"
   ]
  },
  {
   "cell_type": "code",
   "execution_count": null,
   "id": "daa604ea",
   "metadata": {
    "id": "daa604ea",
    "outputId": "7776e6fb-28bd-4b12-a876-2aa70478ae80"
   },
   "outputs": [],
   "source": [
    "# Recall Score\n",
    "cnn_recall = recall_score(y_test_original, y_pred, average='macro')\n",
    "\n",
    "print('CNN Recall:', cnn_recall)"
   ]
  },
  {
   "cell_type": "code",
   "execution_count": null,
   "id": "756234fe",
   "metadata": {
    "id": "756234fe",
    "outputId": "ce4de5fc-dcd1-42bd-b68a-e242058bd452"
   },
   "outputs": [],
   "source": [
    "# F1 Score\n",
    "cnn_f1 = f1_score(y_test_original, y_pred, average='macro')\n",
    "\n",
    "print('CNN F1 Score:', cnn_f1)"
   ]
  },
  {
   "cell_type": "code",
   "execution_count": null,
   "id": "d99045b0",
   "metadata": {
    "id": "d99045b0",
    "outputId": "3299ac76-e7c9-4feb-c7d2-63cf43249e09"
   },
   "outputs": [],
   "source": [
    "# Confusion matrix\n",
    "cnn_confusion_mat = confusion_matrix(y_test_original, y_pred)\n",
    "\n",
    "print('CNN Confusion Matrix:\\n', cnn_confusion_mat)"
   ]
  },
  {
   "cell_type": "code",
   "execution_count": null,
   "id": "12a41f0e",
   "metadata": {
    "id": "12a41f0e",
    "outputId": "5569e7e8-8fa8-4343-dcab-98f94f1754ae"
   },
   "outputs": [],
   "source": [
    "cnn_classification_rep = classification_report(y_test_original, y_pred)\n",
    "\n",
    "print('CNN Classification Report:\\n', cnn_classification_rep)"
   ]
  },
  {
   "cell_type": "markdown",
   "id": "8f0fa3bc",
   "metadata": {
    "id": "8f0fa3bc"
   },
   "source": [
    "# Test the model"
   ]
  },
  {
   "cell_type": "code",
   "execution_count": null,
   "id": "0bf790fc",
   "metadata": {
    "id": "0bf790fc",
    "outputId": "2e5c08d7-dcad-4492-f453-16c83c04638d"
   },
   "outputs": [],
   "source": [
    "# Using CNN algorithm to test the model\n",
    "\n",
    "predictions = cnn_model.predict([x_test])"
   ]
  },
  {
   "cell_type": "code",
   "execution_count": null,
   "id": "c38a0e7d",
   "metadata": {
    "id": "c38a0e7d",
    "outputId": "eb7e21d4-e2e0-453f-b8d4-d0cc6850e172"
   },
   "outputs": [],
   "source": [
    "plt.imshow(x_test[1000], cmap=\"gray\") # Import the image\n",
    "plt.show() # Show the image"
   ]
  },
  {
   "cell_type": "code",
   "execution_count": null,
   "id": "9cdf0492",
   "metadata": {
    "id": "9cdf0492",
    "outputId": "ad0f4044-6d68-484b-b525-83cf5efb9a67"
   },
   "outputs": [],
   "source": [
    "# Print out the number\n",
    "print(np.argmax(predictions[1000]))"
   ]
  },
  {
   "cell_type": "code",
   "execution_count": null,
   "id": "814cc00f",
   "metadata": {
    "id": "814cc00f",
    "outputId": "5faa85f3-d266-4673-824b-6e11cbb1bd67"
   },
   "outputs": [],
   "source": [
    "plt.imshow(x_test[253], cmap=\"gray\")\n",
    "plt.show()"
   ]
  },
  {
   "cell_type": "code",
   "execution_count": null,
   "id": "4c49b415",
   "metadata": {
    "id": "4c49b415",
    "outputId": "e73c9998-ba12-4e6c-bbbc-bd21d8ede2a9"
   },
   "outputs": [],
   "source": [
    "print(np.argmax(predictions[253]))"
   ]
  },
  {
   "cell_type": "code",
   "execution_count": null,
   "id": "a65fe72f",
   "metadata": {
    "id": "a65fe72f"
   },
   "outputs": [],
   "source": []
  },
  {
   "cell_type": "code",
   "execution_count": null,
   "id": "4e147b7f",
   "metadata": {
    "id": "4e147b7f"
   },
   "outputs": [],
   "source": []
  }
 ],
 "metadata": {
  "colab": {
   "provenance": []
  },
  "kernelspec": {
   "display_name": "Python 3 (ipykernel)",
   "language": "python",
   "name": "python3"
  },
  "language_info": {
   "codemirror_mode": {
    "name": "ipython",
    "version": 3
   },
   "file_extension": ".py",
   "mimetype": "text/x-python",
   "name": "python",
   "nbconvert_exporter": "python",
   "pygments_lexer": "ipython3",
   "version": "3.9.13"
  }
 },
 "nbformat": 4,
 "nbformat_minor": 5
}
